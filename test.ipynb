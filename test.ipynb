{
 "cells": [
  {
   "cell_type": "code",
   "execution_count": 1,
   "metadata": {},
   "outputs": [],
   "source": [
    "class open_door:\n",
    "    def down():\n",
    "        return(\"down\")\n",
    "    def up():\n",
    "        return(\"up\")\n",
    "    \n",
    "#down = close , up = open"
   ]
  },
  {
   "cell_type": "code",
   "execution_count": null,
   "metadata": {},
   "outputs": [],
   "source": [
    "(room3_puzzle_1.x < room3_puzzle_2.x)\n",
    "and (room3_puzzle_1.x < room3_puzzle_3.x)\n",
    "and (room3_puzzle_2.x < room3_puzzle_3.x)\n",
    "and (room3_puzzle_1.y == room3_puzzle_2.y)\n",
    "and (room3_puzzle_1.y == room3_puzzle_3.y)\n",
    "and (room3_puzzle_2.y == room3_puzzle_3.y)\n",
    "and (room3_puzzle_1.x == room3_puzzle_4.x)\n",
    "and (room3_puzzle_1.x == room3_puzzle_7.x)\n",
    "and (room3_puzzle_4.x == room3_puzzle_7.x)\n",
    "and (room3_puzzle_4.x < room3_puzzle_5.x)\n",
    "and (room3_puzzle_5.x < room3_puzzle_6.x)\n",
    "and (room3_puzzle_4.x < room3_puzzle_6.x)\n",
    "and (room3_puzzle_4.y == room3_puzzle_5.y)\n",
    "and (room3_puzzle_5.y == room3_puzzle_6.y)\n",
    "and (room3_puzzle_4.y == room3_puzzle_6.y)\n",
    "and (room3_puzzle_7.x < room3_puzzle_8.x)\n",
    "and (room3_puzzle_7.y == room3_puzzle_8.y)\n",
    "and (room3_puzzle_2.x == room3_puzzle_5.x)\n",
    "and (room3_puzzle_5.x == room3_puzzle_8.x)\n",
    "and (room3_puzzle_2.x == room3_puzzle_8.x)\n",
    "and (room3_puzzle_1.x == room3_puzzle_6.x)"
   ]
  },
  {
   "cell_type": "markdown",
   "metadata": {},
   "source": []
  },
  {
   "cell_type": "code",
   "execution_count": null,
   "metadata": {},
   "outputs": [],
   "source": [
    "if ((room3_puzzle_1.x < room3_puzzle_2.x)\n",
    "and (room3_puzzle_1.y == room3_puzzle_2.y)\n",
    "and (room3_puzzle_1.x == room3_puzzle_4.x)\n",
    "and (room3_puzzle_1.x == room3_puzzle_7.x)\n",
    "and (room3_puzzle_4.x == room3_puzzle_7.x)\n",
    "and (room3_puzzle_4.x < room3_puzzle_5.x)\n",
    "and (room3_puzzle_5.x < room3_puzzle_6.x)\n",
    "and (room3_puzzle_4.x < room3_puzzle_6.x)\n",
    "and (room3_puzzle_4.y == room3_puzzle_5.y)\n",
    "and (room3_puzzle_5.y == room3_puzzle_6.y)\n",
    "and (room3_puzzle_4.y == room3_puzzle_6.y)\n",
    "and (room3_puzzle_7.x < room3_puzzle_8.x)\n",
    "and (room3_puzzle_7.x < room3_puzzle_9.x)\n",
    "and (room3_puzzle_8.x < room3_puzzle_9.x)\n",
    "and (room3_puzzle_7.y == room3_puzzle_8.y)\n",
    "and (room3_puzzle_7.y == room3_puzzle_9.y)\n",
    "and (room3_puzzle_8.y == room3_puzzle_9.y)\n",
    "and (room3_puzzle_2.x == room3_puzzle_5.x)\n",
    "and (room3_puzzle_5.x == room3_puzzle_8.x)\n",
    "and (room3_puzzle_2.x == room3_puzzle_8.x)\n",
    "and (room3_puzzle_9.x == room3_puzzle_6.x))\n",
    "{\n",
    "\t//instance_change(room3_puzzle_switch_on, true);\n",
    "\tglobal.door_room2_destroyed = true;\n",
    "}\n",
    "else\n",
    "{\n",
    "\tinstance_change(room3_puzzle_switch_try, true);\n",
    "}\n",
    "\n",
    "if (instance_exists(room3_puzzle_switch)) {\n",
    "    if ((((room3_puzzle_1.x < room3_puzzle_2.x) and (room3_puzzle_1.x < room3_puzzle_3.x)) and ((room3_puzzle_2.x < room3_puzzle_3.x) and (room3_puzzle_1.y == room3_puzzle_2.y)))\n",
    "        and (((room3_puzzle_1.y == room3_puzzle_3.y) and (room3_puzzle_2.y == room3_puzzle_3.y)) and ((room3_puzzle_1.x == room3_puzzle_4.x) and (room3_puzzle_1.x == room3_puzzle_7.x)) and (room3_puzzle_4.x == room3_puzzle_7.x))\n",
    "        and (((room3_puzzle_4.x < room3_puzzle_5.x) and (room3_puzzle_5.x < room3_puzzle_6.x)) and (room3_puzzle_4.x < room3_puzzle_6.x))\n",
    "        and (((room3_puzzle_4.y == room3_puzzle_5.y) and (room3_puzzle_5.y == room3_puzzle_6.y)) and (room3_puzzle_4.y == room3_puzzle_6.y))\n",
    "        and (room3_puzzle_7.x < room3_puzzle_8.x)\n",
    "        and (((room3_puzzle_7.y == room3_puzzle_8.y) and (room3_puzzle_2.x == room3_puzzle_5.x)) and (((room3_puzzle_5.x == room3_puzzle_8.x) and (room3_puzzle_2.x == room3_puzzle_8.x)) and (room3_puzzle_1.x == room3_puzzle_6.x))))\n",
    "    {\n",
    "        //instance_change(room3_puzzle_switch_on, true);\n",
    "        global.door_room2_destroyed = true;\n",
    "    }\n",
    "    else\n",
    "    {\n",
    "        instance_change(room3_puzzle_switch_try, true);\n",
    "    }\n",
    "}"
   ]
  },
  {
   "cell_type": "code",
   "execution_count": null,
   "metadata": {},
   "outputs": [],
   "source": [
    "and (room3_puzzle_2.x < room3_puzzle_3.x)\n",
    "and (room3_puzzle_1.y == room3_puzzle_2.y)\n",
    "and (room3_puzzle_1.y == room3_puzzle_3.y)\n",
    "and (room3_puzzle_2.y == room3_puzzle_3.y)\n",
    "and (room3_puzzle_1.x == room3_puzzle_4.x)\n",
    "and (room3_puzzle_1.x == room3_puzzle_7.x)\n",
    "and (room3_puzzle_4.x == room3_puzzle_7.x)\n",
    "and (room3_puzzle_4.x < room3_puzzle_5.x)\n",
    "and (room3_puzzle_5.x < room3_puzzle_6.x)\n",
    "and (room3_puzzle_4.x < room3_puzzle_6.x)\n",
    "and (room3_puzzle_4.y == room3_puzzle_5.y)\n",
    "and (room3_puzzle_5.y == room3_puzzle_6.y)\n",
    "and (room3_puzzle_4.y == room3_puzzle_6.y)\n",
    "and (room3_puzzle_7.x < room3_puzzle_8.x)\n",
    "and (room3_puzzle_7.y == room3_puzzle_8.y)\n",
    "and (room3_puzzle_2.x == room3_puzzle_5.x)\n",
    "and (room3_puzzle_5.x == room3_puzzle_8.x)\n",
    "and (room3_puzzle_2.x == room3_puzzle_8.x)\n",
    "and (room3_puzzle_1.x == room3_puzzle_6.x))\n",
    "{"
   ]
  },
  {
   "cell_type": "code",
   "execution_count": null,
   "metadata": {},
   "outputs": [],
   "source": [
    "if ((((( y - Obj02_room2_puzzle.y < 10 ) and ( y - Obj02_room2_puzzle.y > -10 ))) \n",
    "and (x <= Obj02_room2_puzzle.x) and ( Obj02_room2_puzzle.x - x < 350 )))\n",
    "{\n",
    "\tglobal.puzzle2_check_1 = true;\n",
    "}\n"
   ]
  },
  {
   "cell_type": "code",
   "execution_count": null,
   "metadata": {},
   "outputs": [],
   "source": [
    "if (((( Obj01_room2_puzzle.y - y < 10 ) and ( Obj01_room2_puzzle.y - y > -10 ))) \n",
    "and (Obj01_room2_puzzle.x < x) and ( x - Obj01_room2_puzzle.x < 350 ))\n",
    "and ((((y < Obj03_room2_puzzle.y) and ( y - Obj03_room2_puzzle.y > -120 )))\n",
    "and (( x - Obj03_room2_puzzle.x < 10 ) and ( x - Obj03_room2_puzzle.x > -10 )))\n",
    "{\n",
    "\tglobal.puzzle2_check_2 = true;\n",
    "}\n"
   ]
  },
  {
   "cell_type": "code",
   "execution_count": null,
   "metadata": {},
   "outputs": [],
   "source": [
    "if (((((Obj02_room2_puzzle.y > y) and ( Obj02_room2_puzzle.y - y > -120 )))\n",
    "and (( Obj02_room2_puzzle.x - x < 10 ) and ( Obj02_room2_puzzle.x - x > -10 )))\n",
    "and ((x > Obj04_room2_puzzle.x) and (x - Obj04_room2_puzzle.x < 350))\n",
    "and (( Obj04_room2_puzzle.y - y < 10 ) and ( Obj04_room2_puzzle.y - y > -10 ))\n",
    "and ((((y < Obj05_room2_puzzle.y) and ( y - Obj05_room2_puzzle.y > -120 )))\n",
    "and (( x - Obj05_room2_puzzle.x < 10 ) and ( x - Obj05_room2_puzzle.x > -10 ))))\n",
    "{\n",
    "\tglobal.puzzle2_check_3 = true;\n",
    "}\n"
   ]
  },
  {
   "cell_type": "code",
   "execution_count": null,
   "metadata": {},
   "outputs": [],
   "source": [
    "if (((( Obj03_room2_puzzle.y - y < 10 ) and ( Obj03_room2_puzzle.y - y > -10 ))) \n",
    "and (Obj03_room2_puzzle.x < x) and ( x - Obj03_room2_puzzle.x < 350 ))\n",
    "and ((((y < Obj06_room2_puzzle.y) and ( y - Obj06_room2_puzzle.y > -120 )))\n",
    "and (( x - Obj06_room2_puzzle.x < 10 ) and ( x - Obj06_room2_puzzle.x > -10 )))\n",
    "{\n",
    "\tglobal.puzzle2_check_4 = true;\n",
    "}\n",
    "\n",
    " "
   ]
  },
  {
   "cell_type": "code",
   "execution_count": null,
   "metadata": {},
   "outputs": [],
   "source": [
    "if (((((Obj03_room2_puzzle.y < y) and ( Obj03_room2_puzzle.y - y > -1200 )))\n",
    "and (( Obj03_room2_puzzle.x - x < 10 ) and ( Obj03_room2_puzzle.x - x > -10 )))\n",
    "and ((Obj06_room2_puzzle.x > x ) and (Obj06_room2_puzzle.x - x < 350))\n",
    "and (( Obj06_room2_puzzle.y - y < 10 ) and ( Obj06_room2_puzzle.y - y > -10 )))\n",
    "{\n",
    "\tglobal.puzzle2_check_5 = true;\n",
    "}"
   ]
  },
  {
   "cell_type": "code",
   "execution_count": null,
   "metadata": {},
   "outputs": [],
   "source": [
    "if(((x > Obj05_room2_puzzle.x) and (x - Obj05_room2_puzzle.x < 350))\n",
    "and (( y - Obj05_room2_puzzle.y < 10 ) and ( y - Obj05_room2_puzzle.y > -10 ))\n",
    "and ((((Obj04_room2_puzzle.y < y) and ( Obj04_room2_puzzle.y - y > -1200 )))\n",
    "and (( Obj04_room2_puzzle.x - x < 10 ) and ( Obj04_room2_puzzle.x - x > -10 ))))\n",
    "{\n",
    "\tglobal.puzzle2_check_6 = true;\n",
    "}"
   ]
  },
  {
   "cell_type": "code",
   "execution_count": null,
   "metadata": {},
   "outputs": [],
   "source": [
    "#making high score\n",
    "\n",
    "##from colision player and win_line\n",
    "if (get_name == true)\n",
    "{\n",
    "    //Validation is not done here. The input is processed in the Asynchronous Dialog event.\n",
    "    name = get_string_async(\"Enter your name:\", \"AAA\");\n",
    "    get_name = false; \n",
    "}\n",
    "\n",
    "##from player create\n",
    "get_name = true;\n",
    "\n",
    "##from player Async-Dialog\n",
    "var time = (global.seconds + (global.minutes * 60) + (global.hours * 3600));\n",
    "//listen for async dialog event\n",
    "var i_d = ds_map_find_value(async_load, \"id\");\n",
    "\n",
    "//if the dialog is the one where we ask the player for a name\n",
    "if i_d == name\n",
    "{\n",
    "    if ds_map_find_value(async_load, \"status\")//if the user clicked ok\n",
    "    {\n",
    "        //first we check if the input is greater than 5 characters OR empty. This is what we determine to be invalid.\n",
    "        if (string_length(ds_map_find_value(async_load, \"result\")) > 5 || ds_map_find_value(async_load, \"result\") == \"\")//if the name entered is not blank or long\n",
    "        {\n",
    "            //Now that we know the input in invaid, we determine in what way as to dislay the correct error message.\n",
    "            if (string_length(ds_map_find_value(async_load, \"result\")) > 5)\n",
    "            {\n",
    "                show_message_async(\"Name too long\");\n",
    "                //get_name = true; \n",
    "                name = get_string_async(\"Enter your name:\", \"AAA\");\n",
    "            }\n",
    "            \n",
    "            if (ds_map_find_value(async_load, \"result\") == \"\")\n",
    "            {\n",
    "                show_message_async(\"No name entered!\");\n",
    "                //get_name = true; \n",
    "                name = get_string_async(\"Enter your name:\", \"AAA\");\n",
    "            }\n",
    "        }//otherwise the input is correct and we proceed as usual if it is less than or equal to 5 characters AND not empty\n",
    "        else if(string_length(ds_map_find_value(async_load, \"result\")) <= 5 && ds_map_find_value(async_load, \"result\") != \"\")//if the name entered is not blank or long\n",
    "        {\n",
    "            global.Name = ds_map_find_value(async_load, \"result\");//get the name entered\n",
    "            \n",
    "            //HERE WE WANT A HIGH SCORES TABLE WHERE THE\n",
    "            //AIM OF THE GAME IS TO GET THE LOWEST TIME POSSIBLE\n",
    "            //------------------------START--------------------\n",
    "            //open scores.ini which is located at C:\\Users\\yourUserName\\AppData\\Local\\NameOfThisStudioProject\\\n",
    "            ini_open(\"scores.ini\")\n",
    "            for (i = 0; i<10; i++)\n",
    "            {\n",
    "                //fill the global scores array with values from the ini file. If no values are present, then fill with name = unknown and time = 99999\n",
    "                global.score_array[i, 0] = ini_read_string(string(i), \"Name\", \"unknown\");\n",
    "                global.score_array[i, 1] = ini_read_real(string(i), \"Time\", 99999);\n",
    "            }\n",
    "            ini_close();//don't forget to close\n",
    "            \n",
    "            \n",
    "            //search for first spot where player's score is greater\n",
    "            for (i = 0; i<10; i++)\n",
    "            {\n",
    "                //if the player's time is less than the spot in question\n",
    "                if (time < global.score_array[i, 1])\n",
    "                {\n",
    "                    //starting at the last element of the array, set each element to the one before it.\n",
    "                    for (j = 9; j>i; j--)\n",
    "                    {\n",
    "                        global.score_array[j, 0] = global.score_array[j-1, 0];\n",
    "                        global.score_array[j, 1] = global.score_array[j-1, 1];\n",
    "                    }\n",
    "                    \n",
    "                    //now set the space to that of this player\n",
    "                    global.score_array[i, 0] = global.Name;\n",
    "                    global.score_array[i, 1] = time;\n",
    "                    break;\n",
    "                }\n",
    "            }\n",
    "            //----------------------END----------------------\n",
    "            \n",
    "            \n",
    "            /*\n",
    "            //HERE WE WANT A HIGH SCORES TABLE WHERE THE\n",
    "            //AIM OF THE GAME IS TO GET THE LONGEST TIME POSSIBLE\n",
    "            //------------------------START--------------------\n",
    "            //open scores.ini which is located at C:\\Users\\yourUserName\\AppData\\Local\\NameOfThisStudioProject\\\n",
    "            ini_open(\"scores.ini\")\n",
    "            for (i = 0; i<10; i++)\n",
    "            {\n",
    "                //fill the global scores array with values from the ini file. If no values are present, then fill with name = unknown and time = 0\n",
    "                global.score_array[i, 0] = ini_read_string(string(i), \"Name\", \"unknown\");\n",
    "                global.score_array[i, 1] = ini_read_real(string(i), \"Time\", 0);\n",
    "            }\n",
    "            ini_close();//don't forget to close\n",
    "            \n",
    "            \n",
    "            //search for first spot where player's score is greater\n",
    "            for (i = 0; i<10; i++)\n",
    "            {\n",
    "                //if the player's time is less than the spot in question\n",
    "                if (time > global.score_array[i, 1])//SIGN CHANGES TO GREATER THAN\n",
    "                {\n",
    "                    //starting at the last element of the array, set each element to the one before it.\n",
    "                    for (j = 9; j>i; j--)\n",
    "                    {\n",
    "                        global.score_array[j, 0] = global.score_array[j-1, 0];\n",
    "                        global.score_array[j, 1] = global.score_array[j-1, 1];\n",
    "                    }\n",
    "                    \n",
    "                    //now set the space to that of this player\n",
    "                    global.score_array[i, 0] = global.Name;\n",
    "                    global.score_array[i, 1] = time;\n",
    "                    break;\n",
    "                }\n",
    "            }\n",
    "            //----------------------END----------------------\n",
    "            */\n",
    "\n",
    "            //now update ini with this array\n",
    "            ini_open(\"scores.ini\")\n",
    "            for (i = 0; i<10; i++)\n",
    "            {\n",
    "                ini_write_string(string(i), \"Name\", global.score_array[i, 0]);\n",
    "                ini_write_real(string(i), \"Time\", global.score_array[i, 1]);\n",
    "            }\n",
    "            ini_close();//don't forget to close\n",
    "            \n",
    "            room_goto(rm_scores);//go to the room where the high scores table is shown\n",
    "        }\n",
    "    }\n",
    "    else\n",
    "    {\n",
    "        game_end();\n",
    "    }\n",
    "}\n",
    "\n",
    "/* */\n",
    "/*  */\n",
    "\n",
    "\n",
    "##draw score create\n",
    "xx = x;\n",
    "yy = 100;\n",
    "\n",
    "draw_set_font(fnt_scores);\n",
    "draw_set_halign(fa_left);\n",
    "col = make_color_rgb(183, 224, 31);\n",
    "draw_set_color(col);\n",
    "\n",
    "for (i = 0; i<10; i++)\n",
    "{\n",
    "    hours = (global.score_array[i, 1] div 3600);\n",
    "    minutes = (global.score_array[i, 1] div 60) - (hours * 60);\n",
    "    seconds = global.score_array[i, 1] mod 60;\n",
    "    \n",
    "    yy += 45;\n",
    "\n",
    "    draw_seconds = seconds;\n",
    "    \n",
    "    draw_text(xx, yy, string_hash_to_newline(string(global.score_array[i, 0])));\n",
    "    \n",
    "    if (seconds <= 10) && (minutes < 10)\n",
    "    {\n",
    "        draw_text(xx + 200, yy, string_hash_to_newline(string(hours) + \":0\" + string(minutes) + \":0\" + string(draw_seconds)));\n",
    "    }\n",
    "    else if (seconds >= 10) && (minutes >= 10)\n",
    "    {\n",
    "        draw_text(xx + 200, yy, string_hash_to_newline(string(hours) + \":\" + string(minutes) + \":\" + string(draw_seconds)));\n",
    "    }\n",
    "    else if (seconds < 10) && (minutes >= 10)\n",
    "    {\n",
    "        draw_text(xx + 200, yy, string_hash_to_newline(string(hours) + \":\" + string(minutes) + \":0\" + string(draw_seconds)));\n",
    "    }\n",
    "    else if (seconds >= 10) && (minutes < 10)\n",
    "    {\n",
    "        draw_text(xx + 200, yy, string_hash_to_newline(string(hours) + \":0\" + string(minutes) + \":\" + string(draw_seconds)));\n",
    "    }\n",
    "}\n",
    "\n"
   ]
  },
  {
   "cell_type": "code",
   "execution_count": 4,
   "metadata": {},
   "outputs": [
    {
     "name": "stdout",
     "output_type": "stream",
     "text": [
      "return_1\n",
      "I am WHO?\n"
     ]
    }
   ],
   "source": [
    "class class_name:\n",
    "    def function_name_1():\n",
    "        return(\"return_1\")\n",
    "    def function_name_2(some_varibale):\n",
    "        return(\"I am \"+str(some_varibale))\n",
    "    \n",
    "print(class_name.function_name_1())\n",
    "#Result = return_1\n",
    "\n",
    "print(class_name.function_name_2(\"WHO?\"))\n",
    "#Result = I am WHO?"
   ]
  },
  {
   "cell_type": "code",
   "execution_count": 5,
   "metadata": {},
   "outputs": [
    {
     "name": "stdout",
     "output_type": "stream",
     "text": [
      "3\n",
      "-1\n"
     ]
    }
   ],
   "source": [
    "#I want to making class to +, - number\n",
    "# number in python = int / float\n",
    "\n",
    "class Plus_Minus(): #create class name \"Plus_Minus\"\n",
    "    def Plus(number_1, number_2): \n",
    "        #create function name \"Plus\" >>> using variable number_1,and number_2\n",
    "        result = number_1 + number_2 \n",
    "        #variable result = number_1 + number_2\n",
    "        return result #return back variable result when function finish\n",
    "    def Minus(number_1, number_2):\n",
    "        #create function name \"Minus\" >>> using variable number_1,and number_2\n",
    "        result = number_1 - number_2\n",
    "        #variable result = number_1 - number_2\n",
    "        return result #return back variable result when function finish\n",
    "    \n",
    "print(Plus_Minus.Plus(1,2))\n",
    "#result = 1 + 2 = 3\n",
    "\n",
    "print(Plus_Minus.Minus(1,2))\n",
    "#result = 1 - 2 = -1"
   ]
  },
  {
   "cell_type": "code",
   "execution_count": 5,
   "metadata": {},
   "outputs": [
    {
     "name": "stdout",
     "output_type": "stream",
     "text": [
      "Nissannn\n",
      "Abutukam\n",
      "Nissannn Abutukam\n"
     ]
    }
   ],
   "source": [
    "class Car: #making class.\n",
    "    def __init__(self, make, model):  #using the __init__ method as a constructor.\n",
    "        self.make = make\n",
    "        self.model = model\n",
    "\n",
    "# Creating an object\n",
    "my_car = Car(\"Nissannn\", \"Abutukam\")\n",
    "\n",
    "print(my_car.make)\n",
    "print(my_car.model)\n",
    "print(my_car.make,my_car.model)"
   ]
  },
  {
   "cell_type": "code",
   "execution_count": 25,
   "metadata": {},
   "outputs": [],
   "source": [
    "class room4:\n",
    "    def __init__(self, x, y):\n",
    "        self.x = x\n",
    "        self.y = y\n",
    "\n",
    "    def display(self):\n",
    "        return(\"This is \"+str(self.x)+\", That is \"+str(self.y))\n",
    "    \n",
    "    def P_P(self):\n",
    "        return(self.x + self.y)\n",
    "    \n",
    "    def M_M(self):\n",
    "        return(self.x - self.y)\n",
    "    \n",
    "    def Double(self):\n",
    "        return((self.x - self.y)**2)"
   ]
  },
  {
   "cell_type": "code",
   "execution_count": 29,
   "metadata": {},
   "outputs": [
    {
     "data": {
      "text/plain": [
       "81"
      ]
     },
     "execution_count": 29,
     "metadata": {},
     "output_type": "execute_result"
    }
   ],
   "source": [
    "Result = room4(10,1)\n",
    "Hello = room4(5,2)\n",
    "\n",
    "#1.\n",
    "Result.P_P() \n",
    "# = 11 ?\n",
    "\n",
    "#2.\n",
    "Hello.M_M() \n",
    "# = -3 ?\n",
    "\n",
    "#3.\n",
    "Result.Double() \n",
    "# = 82 ?"
   ]
  },
  {
   "cell_type": "code",
   "execution_count": 30,
   "metadata": {},
   "outputs": [
    {
     "name": "stdout",
     "output_type": "stream",
     "text": [
      "11\n",
      "3\n",
      "81\n"
     ]
    }
   ],
   "source": [
    "print(Result.P_P() )\n",
    "print(Hello.M_M())\n",
    "print(Result.Double() )"
   ]
  },
  {
   "cell_type": "code",
   "execution_count": 1,
   "metadata": {},
   "outputs": [],
   "source": [
    "class start_cart:\n",
    "    def __init__(self, x, y, z):\n",
    "        self.x = z\n",
    "        self.y = x\n",
    "        self.z = y\n",
    "    #sort code_n (n = n+1, n>0, n<5)\n",
    "\n",
    "    def code_1(self):\n",
    "        return((self.x + self.z)/2)\n",
    "    \n",
    "    def code_2(self):\n",
    "        return((self.y + self.z)/2)\n",
    "    \n",
    "    def code_3(self):\n",
    "        return((self.y + self.x)/2)\n",
    "    \n",
    "    def code_4(self):\n",
    "        return(((self.x + self.z ) - self.y))"
   ]
  },
  {
   "cell_type": "code",
   "execution_count": 7,
   "metadata": {},
   "outputs": [
    {
     "data": {
      "text/plain": [
       "(5.0, 4.0, 7.0, 4)"
      ]
     },
     "execution_count": 7,
     "metadata": {},
     "output_type": "execute_result"
    }
   ],
   "source": [
    "password = start_cart(6,2,8)\n",
    "password.code_1() , #No.1 password\n",
    "password.code_2() , #No.2 password\n",
    "password.code_3() , #No.3 password\n",
    "password.code_4()   #No.4 password"
   ]
  },
  {
   "cell_type": "code",
   "execution_count": 1,
   "metadata": {},
   "outputs": [
    {
     "name": "stdout",
     "output_type": "stream",
     "text": [
      "Canine\n",
      "Woof!\n"
     ]
    }
   ],
   "source": [
    "class Animal:\n",
    "    def __init__(self, species):\n",
    "        self.species = species\n",
    "\n",
    "    def make_sound(self):\n",
    "        pass\n",
    "\n",
    "class Dog(Animal):\n",
    "    def make_sound(self):\n",
    "        return \"Woof!\"\n",
    "\n",
    "dog_instance = Dog(\"Canine\")\n",
    "print(dog_instance.species)  # Accessing attribute from the base class\n",
    "print(dog_instance.make_sound())  # Overriding and using method from the base class\n"
   ]
  },
  {
   "cell_type": "code",
   "execution_count": 1,
   "metadata": {},
   "outputs": [
    {
     "name": "stdout",
     "output_type": "stream",
     "text": [
      "Canine\n",
      "Labrador\n",
      "Generic animal sound and barks: Woof!\n"
     ]
    }
   ],
   "source": [
    "# Define a base class named Animal\n",
    "class Animal:\n",
    "    # Constructor method with one parameter for the species of the animal\n",
    "    def __init__(self, species):\n",
    "        self.species = species  # Instance variable to hold the species of the animal\n",
    "\n",
    "    # A method that returns a generic sound associated with an animal\n",
    "    def make_sound(self):\n",
    "        return \"Generic animal sound\"\n",
    "\n",
    "# Define a subclass named Dog that inherits from Animal\n",
    "class Dog(Animal):\n",
    "    # Constructor method with two parameters: species (inherited) and breed (specific to Dog)\n",
    "    def __init__(self, species, breed):\n",
    "        super().__init__(species)  # Call the constructor of the base class (Animal) to set the species\n",
    "        self.breed = breed  # Instance variable to hold the breed of the dog\n",
    "\n",
    "    # Override the make_sound method from the Animal class\n",
    "    def make_sound(self):\n",
    "        # Call the make_sound method of the base class and append the dog-specific sound\n",
    "        return super().make_sound() + \" and barks: Woof!\"\n",
    "\n",
    "# Create an instance of the Dog class with species \"Canine\" and breed \"Labrador\"\n",
    "dog_instance = Dog(\"Canine\", \"Labrador\")\n",
    "\n",
    "# Print the species of the dog instance, accessing the species attribute inherited from the Animal class\n",
    "print(dog_instance.species)  # Output: Canine\n",
    "\n",
    "# Print the breed of the dog instance, accessing the breed attribute specific to the Dog class\n",
    "print(dog_instance.breed)    # Output: Labrador\n",
    "\n",
    "# Print the sound the dog makes, using the overridden make_sound method in the Dog class\n",
    "# This demonstrates method overriding and the use of super() to access methods from the base class\n",
    "print(dog_instance.make_sound())  # Output: Generic animal sound and barks: Woof!\n"
   ]
  },
  {
   "cell_type": "code",
   "execution_count": 15,
   "metadata": {},
   "outputs": [],
   "source": [
    "#ParentClass ***sorting\n",
    "# __init__ > self.line > self.colour > function)\n",
    "class Mace():\n",
    "    def __init__(self, line, colour):\n",
    "        self.line = line\n",
    "        self.colour = colour\n",
    "\n",
    "    def Create_Mace(self):\n",
    "        return(\"Mace line = \" + str(self.line) \n",
    "               + \" px, Mace line colour = \" + str(self.colour))\n"
   ]
  },
  {
   "cell_type": "code",
   "execution_count": 18,
   "metadata": {},
   "outputs": [
    {
     "name": "stdout",
     "output_type": "stream",
     "text": [
      "Mace line = 3 px, Mace line colour = black\n"
     ]
    }
   ],
   "source": [
    "Mace_line = Mace(3,\"black\")\n",
    "print(Mace_line.Create_Mace())"
   ]
  },
  {
   "cell_type": "code",
   "execution_count": 31,
   "metadata": {},
   "outputs": [],
   "source": [
    "#ChildClass ***sorting\n",
    "# Mace_head function >first< \n",
    "class Mace_Build(Mace):\n",
    "    def Create_Mace_head(self):\n",
    "        return(\"create Mace Head\")\n",
    "    def Create_Mace_handle(self):\n",
    "        return(\"create Mace Handle\")"
   ]
  },
  {
   "cell_type": "code",
   "execution_count": 34,
   "metadata": {},
   "outputs": [
    {
     "name": "stdout",
     "output_type": "stream",
     "text": [
      "create Mace Head create Mace Handle\n"
     ]
    }
   ],
   "source": [
    "Mace_line_2 = Mace_Build(3,\"black\")\n",
    "print(Mace_line_2.Create_Mace_head() , Mace_line_2.Create_Mace_handle())"
   ]
  },
  {
   "cell_type": "code",
   "execution_count": 48,
   "metadata": {},
   "outputs": [],
   "source": [
    "#SuperClass ***sorting\n",
    "# __init__ > self.line > self.colour > self.Mace_head > self.Mace_handle > super class\n",
    "# then Mace_finish function sorting order like variable\n",
    "class Mace_Finish(Mace):\n",
    "    def __init__(self, line, colour, Mace_head, Mace_handle):\n",
    "        self.line = line\n",
    "        self.colour = colour\n",
    "        self.Mace_head = Mace_head\n",
    "        self.Mace_handle = Mace_handle\n",
    "        super().__init__(line, colour)\n",
    "\n",
    "    def Mace_finish(self):\n",
    "        return( \"Finish create Mace , Mace line = \" + (str(self.line)) + \n",
    "               \" , Line colour = \" + (str(self.colour)) + \n",
    "               \" , Mace head = \" + str(self.Mace_head) + \n",
    "               \" , Mace handle = \" + str(self.Mace_handle))\n"
   ]
  },
  {
   "cell_type": "code",
   "execution_count": 49,
   "metadata": {},
   "outputs": [
    {
     "name": "stdout",
     "output_type": "stream",
     "text": [
      "Finish create Mace , Mace line = 3 , Line colour = black , Mace head = blue , Mace handle = brown\n"
     ]
    }
   ],
   "source": [
    "Mace_line_3 = Mace_Finish( 3 , \"black\" , \"blue\" , \"brown\" )\n",
    "print(Mace_line_3.Mace_finish())"
   ]
  },
  {
   "cell_type": "code",
   "execution_count": 4,
   "metadata": {},
   "outputs": [
    {
     "name": "stdout",
     "output_type": "stream",
     "text": [
      "4 6\n"
     ]
    }
   ],
   "source": [
    "# Define a class named Point to represent 2D points in a Cartesian plane\n",
    "class Point:\n",
    "    # Constructor method to initialize the Point object with x and y coordinates\n",
    "    def __init__(self, x, y):\n",
    "        self.x = x  # Instance variable to store the x-coordinate of the point\n",
    "        self.y = y  # Instance variable to store the y-coordinate of the point\n",
    "\n",
    "    # Magic method __add__ to define the behavior of the '+' operator for Point objects\n",
    "    def __add__(self, other):\n",
    "        # Create a new Point object whose coordinates are the sum of corresponding coordinates\n",
    "        return Point(self.x + other.x, self.y + other.y)\n",
    "\n",
    "# Create two Point instances, p1 and p2, with coordinates (1, 2) and (3, 4) respectively\n",
    "p1 = Point(1, 2)\n",
    "p2 = Point(3, 4)\n",
    "\n",
    "# Use the '+' operator on Point objects, invoking the __add__ method\n",
    "result = p1 + p2\n",
    "\n",
    "# Print the x and y coordinates of the result Point\n",
    "print(result.x, result.y)  # Output: 4 6\n"
   ]
  },
  {
   "cell_type": "code",
   "execution_count": 5,
   "metadata": {},
   "outputs": [
    {
     "name": "stdout",
     "output_type": "stream",
     "text": [
      "MyClass instance with value: 42\n"
     ]
    }
   ],
   "source": [
    "# Define a class named MyClass\n",
    "class MyClass:\n",
    "    # Constructor method to initialize the MyClass instance with a value\n",
    "    def __init__(self, value):\n",
    "        self.value = value  # Instance variable to store the value of the MyClass instance\n",
    "\n",
    "    # Magic method __str__ to define a string representation for the end-user\n",
    "    def __str__(self):\n",
    "        return f\"MyClass instance with value: {self.value}\"\n",
    "\n",
    "# Create an instance of the MyClass class with value 42\n",
    "obj = MyClass(42)\n",
    "\n",
    "# Print the string representation of the MyClass instance using the print function\n",
    "print(str(obj))  # Output: MyClass instance with value: 42\n"
   ]
  },
  {
   "cell_type": "code",
   "execution_count": null,
   "metadata": {},
   "outputs": [],
   "source": [
    "class Mace_upgrade:\n",
    "    def __init__(self,value):\n",
    "        self.value = value\n",
    "    def __LDA__(self):\n",
    "        return f\"Mace upgrade >> {self.upgrade}\" "
   ]
  },
  {
   "cell_type": "code",
   "execution_count": null,
   "metadata": {},
   "outputs": [],
   "source": [
    "class Mace_upgrade:\n",
    "    def __init__(self,value):\n",
    "        self.value = value\n",
    "    def __GAR__(self):\n",
    "        return f\"Mace upgrade >> {self.upgrade}\" "
   ]
  },
  {
   "cell_type": "code",
   "execution_count": 33,
   "metadata": {},
   "outputs": [
    {
     "ename": "AttributeError",
     "evalue": "'Mace_upgrade' object has no attribute 'upgrade'",
     "output_type": "error",
     "traceback": [
      "\u001b[1;31m---------------------------------------------------------------------------\u001b[0m",
      "\u001b[1;31mAttributeError\u001b[0m                            Traceback (most recent call last)",
      "Cell \u001b[1;32mIn[33], line 8\u001b[0m\n\u001b[0;32m      5\u001b[0m         \u001b[38;5;28;01mreturn\u001b[39;00m \u001b[38;5;124mf\u001b[39m\u001b[38;5;124m\"\u001b[39m\u001b[38;5;124mMace upgrade >> \u001b[39m\u001b[38;5;132;01m{\u001b[39;00m\u001b[38;5;28mself\u001b[39m\u001b[38;5;241m.\u001b[39mupgrade\u001b[38;5;132;01m}\u001b[39;00m\u001b[38;5;124m\"\u001b[39m \n\u001b[0;32m      7\u001b[0m hi \u001b[38;5;241m=\u001b[39m Mace_upgrade(\u001b[38;5;124m\"\u001b[39m\u001b[38;5;124mHi\u001b[39m\u001b[38;5;124m\"\u001b[39m)\n\u001b[1;32m----> 8\u001b[0m \u001b[38;5;28mprint\u001b[39m(\u001b[43mhi\u001b[49m\u001b[38;5;241;43m.\u001b[39;49m\u001b[43m__KYS__\u001b[49m\u001b[43m(\u001b[49m\u001b[43m)\u001b[49m)\n",
      "Cell \u001b[1;32mIn[33], line 5\u001b[0m, in \u001b[0;36mMace_upgrade.__KYS__\u001b[1;34m(self)\u001b[0m\n\u001b[0;32m      4\u001b[0m \u001b[38;5;28;01mdef\u001b[39;00m \u001b[38;5;21m__KYS__\u001b[39m(\u001b[38;5;28mself\u001b[39m):\n\u001b[1;32m----> 5\u001b[0m     \u001b[38;5;28;01mreturn\u001b[39;00m \u001b[38;5;124mf\u001b[39m\u001b[38;5;124m\"\u001b[39m\u001b[38;5;124mMace upgrade >> \u001b[39m\u001b[38;5;132;01m{\u001b[39;00m\u001b[38;5;28;43mself\u001b[39;49m\u001b[38;5;241;43m.\u001b[39;49m\u001b[43mupgrade\u001b[49m\u001b[38;5;132;01m}\u001b[39;00m\u001b[38;5;124m\"\u001b[39m\n",
      "\u001b[1;31mAttributeError\u001b[0m: 'Mace_upgrade' object has no attribute 'upgrade'"
     ]
    }
   ],
   "source": [
    "class Mace_upgrade:\n",
    "    def __init__(self,value):\n",
    "        self.value = value\n",
    "    def __KYS__(self):\n",
    "        return f\"Mace upgrade >> {self.upgrade}\" "
   ]
  },
  {
   "cell_type": "code",
   "execution_count": 31,
   "metadata": {},
   "outputs": [
    {
     "ename": "AttributeError",
     "evalue": "'Mace_upgrade' object has no attribute '__KYS__'",
     "output_type": "error",
     "traceback": [
      "\u001b[1;31m---------------------------------------------------------------------------\u001b[0m",
      "\u001b[1;31mAttributeError\u001b[0m                            Traceback (most recent call last)",
      "Cell \u001b[1;32mIn[31], line 2\u001b[0m\n\u001b[0;32m      1\u001b[0m hi \u001b[38;5;241m=\u001b[39m Mace_upgrade(\u001b[38;5;124m\"\u001b[39m\u001b[38;5;124mHi\u001b[39m\u001b[38;5;124m\"\u001b[39m)\n\u001b[1;32m----> 2\u001b[0m \u001b[38;5;28mprint\u001b[39m(\u001b[43mhi\u001b[49m\u001b[38;5;241;43m.\u001b[39;49m\u001b[43m__KYS__\u001b[49m())\n",
      "\u001b[1;31mAttributeError\u001b[0m: 'Mace_upgrade' object has no attribute '__KYS__'"
     ]
    }
   ],
   "source": [
    "hi = Mace_upgrade(\"Hi\")\n",
    "print(hi.__KYS__())"
   ]
  },
  {
   "cell_type": "code",
   "execution_count": null,
   "metadata": {},
   "outputs": [],
   "source": [
    "obj = Mace_upgrade(\"true\")\n",
    "print(LDA(obj)) "
   ]
  },
  {
   "cell_type": "code",
   "execution_count": null,
   "metadata": {},
   "outputs": [],
   "source": [
    "obj = Mace_upgrade(\"true\")\n",
    "print(GAR(obj)) "
   ]
  },
  {
   "cell_type": "code",
   "execution_count": null,
   "metadata": {},
   "outputs": [],
   "source": [
    "obj = Mace_upgrade(\"true\")\n",
    "print(KYS(obj)) "
   ]
  },
  {
   "cell_type": "markdown",
   "metadata": {},
   "source": [
    "ฺBoss fight Question"
   ]
  },
  {
   "cell_type": "code",
   "execution_count": 1,
   "metadata": {},
   "outputs": [],
   "source": [
    "#1\n",
    "\n",
    "def My_class(x):\n",
    "    return \"Hello \" + str(x)\n",
    "def Class_2():\n",
    "    return(\"This is class!\")\n",
    "\n",
    "# This code is class ?"
   ]
  },
  {
   "cell_type": "code",
   "execution_count": 2,
   "metadata": {},
   "outputs": [],
   "source": [
    "#2\n",
    "\n",
    "class just_function():\n",
    "    def Function_01():\n",
    "        return (\"Hello world!\")\n",
    "    def Function_2():\n",
    "        return(1+2)\n",
    "    \n",
    "# This code is class ?"
   ]
  },
  {
   "cell_type": "code",
   "execution_count": 4,
   "metadata": {},
   "outputs": [
    {
     "name": "stdout",
     "output_type": "stream",
     "text": [
      "603\n"
     ]
    }
   ],
   "source": [
    "#3 \n",
    "\n",
    "class Operation():\n",
    "    def plus(A,B):\n",
    "        return (A+B)\n",
    "    def Minus(A,B):\n",
    "        return (A-B)\n",
    "    \n",
    "print(Operation.plus(258,345))"
   ]
  },
  {
   "cell_type": "code",
   "execution_count": 6,
   "metadata": {},
   "outputs": [
    {
     "name": "stdout",
     "output_type": "stream",
     "text": [
      "-581\n"
     ]
    }
   ],
   "source": [
    "#4\n",
    "\n",
    "class Operation():\n",
    "    def plus(A,B):\n",
    "        return (A+B)\n",
    "    def Minus(A,B):\n",
    "        return (A-B)\n",
    "    \n",
    "print(Operation.Minus(323,904))"
   ]
  },
  {
   "cell_type": "code",
   "execution_count": 18,
   "metadata": {},
   "outputs": [
    {
     "name": "stdout",
     "output_type": "stream",
     "text": [
      "2 is not 3\n"
     ]
    }
   ],
   "source": [
    "#5 \n",
    "class my_class():\n",
    "    def fucntion_A(A,B):\n",
    "        return(f\"this is {A} and {B}\")\n",
    "    def fucntion_B(A,B):\n",
    "        return(\"Hello World!\")\n",
    "    def fucntion_C(A,B):\n",
    "        return(f\"{A} is not {B}\")\n",
    "    \n",
    "print(my_class.fucntion_C(2,3))"
   ]
  },
  {
   "cell_type": "code",
   "execution_count": 42,
   "metadata": {},
   "outputs": [
    {
     "name": "stdout",
     "output_type": "stream",
     "text": [
      "Add lion to zone Z\n"
     ]
    }
   ],
   "source": [
    "class zoo:\n",
    "    def __init__(self, animal, area):\n",
    "        self.animal = animal\n",
    "        self.area = area\n",
    "\n",
    "    def map(self):\n",
    "        return(\"Elephen > zone A\",\n",
    "               \" Monkey > zone B\",\n",
    "               \"Snake > zone C\",\n",
    "               \"Tigen > zone D\",\n",
    "               \"Cat > zone E\")\n",
    "    \n",
    "    def add_animal(self):\n",
    "        return(f\"Add {self.animal} to zone {self.area}\")\n",
    "    \n",
    "x = zoo(\"lion\",\"Z\") ,print(x.add_animal())"
   ]
  },
  {
   "cell_type": "code",
   "execution_count": 55,
   "metadata": {},
   "outputs": [
    {
     "data": {
      "text/plain": [
       "'There are 5 of A in zone apple'"
      ]
     },
     "execution_count": 55,
     "metadata": {},
     "output_type": "execute_result"
    }
   ],
   "source": [
    "#7\n",
    "\n",
    "class garden_manage():\n",
    "    def __init__(self,plant,count,zone):\n",
    "        self.plant = plant\n",
    "        self.count = count\n",
    "        self.zone = zone\n",
    "\n",
    "class garden_show(garden_manage):\n",
    "    def __init__(self, plant, count, zone):\n",
    "        self.plant = plant\n",
    "        self.count = count\n",
    "        self.zone = zone\n",
    "        super().__init__(plant, count, zone)\n",
    "\n",
    "    def show_plant(self):\n",
    "        return(f\"There are {self.count} of {self.plant} in zone {self.zone}\")\n",
    "    \n",
    "x = garden_show(\"A\", 5, \"apple\")\n",
    "x.show_plant()"
   ]
  },
  {
   "cell_type": "code",
   "execution_count": null,
   "metadata": {},
   "outputs": [],
   "source": [
    "#8\n",
    "\n"
   ]
  }
 ],
 "metadata": {
  "kernelspec": {
   "display_name": "Python 3",
   "language": "python",
   "name": "python3"
  },
  "language_info": {
   "codemirror_mode": {
    "name": "ipython",
    "version": 3
   },
   "file_extension": ".py",
   "mimetype": "text/x-python",
   "name": "python",
   "nbconvert_exporter": "python",
   "pygments_lexer": "ipython3",
   "version": "3.11.5"
  }
 },
 "nbformat": 4,
 "nbformat_minor": 2
}
